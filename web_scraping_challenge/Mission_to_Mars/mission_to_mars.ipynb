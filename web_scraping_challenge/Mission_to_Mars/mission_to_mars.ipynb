{
 "cells": [
  {
   "cell_type": "code",
   "execution_count": 1,
   "id": "creative-harassment",
   "metadata": {},
   "outputs": [],
   "source": [
    "from splinter import Browser\n",
    "from bs4 import BeautifulSoup\n",
    "from webdriver_manager.chrome import ChromeDriverManager\n",
    "from flask_pymongo import PyMongo\n",
    "from flask import Flask\n",
    "# import scrape_mars"
   ]
  },
  {
   "cell_type": "code",
   "execution_count": 2,
   "id": "manual-advocate",
   "metadata": {},
   "outputs": [
    {
     "name": "stderr",
     "output_type": "stream",
     "text": [
      "[WDM] - ====== WebDriver manager ======\n",
      "[WDM] - Current google-chrome version is 89.0.4389\n",
      "[WDM] - Get LATEST driver version for 89.0.4389\n",
      "[WDM] - Driver [/Users/jameswhite/.wdm/drivers/chromedriver/mac64/89.0.4389.23/chromedriver] found in cache\n"
     ]
    },
    {
     "name": "stdout",
     "output_type": "stream",
     "text": [
      "\n",
      "\n"
     ]
    }
   ],
   "source": [
    "executable_path = {'executable_path': ChromeDriverManager().install()}\n",
    "browser = Browser('chrome', **executable_path, headless=False)"
   ]
  },
  {
   "cell_type": "code",
   "execution_count": 3,
   "id": "swedish-neutral",
   "metadata": {},
   "outputs": [],
   "source": [
    "url = 'https://mars.nasa.gov/news/'\n",
    "browser.visit(url)"
   ]
  },
  {
   "cell_type": "code",
   "execution_count": 4,
   "id": "affected-visit",
   "metadata": {},
   "outputs": [],
   "source": [
    "html = browser.html\n",
    "soup = BeautifulSoup(html, 'lxml')\n",
    "\n",
    "headlines = soup.find_all('div', class_='content_title')\n",
    "paragraphs = soup.find_all('div', class_='article_teaser_body')\n"
   ]
  },
  {
   "cell_type": "code",
   "execution_count": 5,
   "id": "fifth-satin",
   "metadata": {},
   "outputs": [],
   "source": [
    "headlines_list = []\n",
    "paragraph_list = []\n",
    "\n",
    "for category in headlines:\n",
    "    title = category.text.strip()\n",
    "    headlines_list.append(title)\n",
    "    \n",
    "for category in paragraphs:\n",
    "    para = category.text.strip()\n",
    "    paragraph_list.append(para)\n"
   ]
  },
  {
   "cell_type": "code",
   "execution_count": 6,
   "id": "younger-induction",
   "metadata": {},
   "outputs": [
    {
     "data": {
      "text/plain": [
       "['Mars Now',\n",
       " 'Another First: Perseverance Captures the Sounds of Driving on Mars',\n",
       " 'NASA to Host Briefing to Preview First Mars Helicopter Flights',\n",
       " \"New Study Challenges Long-Held Theory of Fate of Mars' Water\",\n",
       " \"NASA's Perseverance Mars Rover Mission Honors Navajo Language\",\n",
       " \"Perseverance Rover's SuperCam Science Instrument Delivers First Results\",\n",
       " \"NASA's Perseverance Drives on Mars' Terrain for First Time\",\n",
       " 'Media Telecon Materials - March 5, 2021',\n",
       " 'NASA Awards Mars Ascent Propulsion System Contract for Sample Return',\n",
       " \"NASA to Provide Update on Perseverance ‘Firsts' Since Mars Landing\",\n",
       " 'Testing Proves Its Worth With Successful Mars Parachute Deployment',\n",
       " \"NASA's Perseverance Rover Gives High-Definition Panoramic View of Landing Site\",\n",
       " 'Nearly 11 Million Names of Earthlings are on Mars Perseverance',\n",
       " \"NASA's Mars Perseverance Rover Provides Front-Row Seat to Landing, First Audio Recording of Red Planet\",\n",
       " 'NASA to Reveal New Video, Images From Mars Perseverance Rover',\n",
       " \"NASA's Mars Helicopter Reports In\",\n",
       " \"NASA's Perseverance Rover Sends Sneak Peek of Mars Landing\",\n",
       " \"Touchdown! NASA's Mars Perseverance Rover Safely Lands on Red Planet\",\n",
       " \"Searching for Life in NASA's Perseverance Mars Samples\",\n",
       " \"The Mars Relay Network Connects Us to NASA's Martian Explorers\",\n",
       " \"NASA's Next Mars Rover Is Ready for the Most Precise Landing Yet\",\n",
       " \"Sensors Prepare to Collect Data as Perseverance Enters Mars' Atmosphere\",\n",
       " 'InSight Is Meeting the Challenge of Winter on Dusty Mars',\n",
       " 'NASA Invites Public to Share Thrill of Mars Perseverance Rover Landing',\n",
       " 'Tricky Terrain: Helping to Assure a Safe Rover Landing',\n",
       " 'Where Should Future Astronauts Land on Mars? Follow the Water',\n",
       " \"NASA's Perseverance Pays Off Back Home\",\n",
       " 'Could the Surface of Phobos Reveal Secrets of the Martian Past?',\n",
       " \"NASA's MAVEN Continues to Advance Mars Science and Telecommunications Relay Efforts\",\n",
       " \"NASA's Perseverance Rover 22 Days From Mars Landing\",\n",
       " \"6 Things to Know About NASA's Mars Helicopter on Its Way to Mars\",\n",
       " 'NASA to Host Virtual Briefing on February Perseverance Mars Rover Landing',\n",
       " \"NASA InSight's ‘Mole' Ends Its Journey on Mars\",\n",
       " 'Mars 2020 Perseverance Rover to Capture Sounds From the Red Planet',\n",
       " \"NASA's Curiosity Rover Reaches Its 3,000th Day on Mars\",\n",
       " \"Celebrate the Perseverance Rover Landing With NASA's Student Challenge\",\n",
       " 'NASA Extends Exploration for Two Planetary Science Missions',\n",
       " '7 Things to Know About the NASA Rover About to Land on Mars',\n",
       " \"A Martian Roundtrip: NASA's Perseverance Rover Sample Tubes\",\n",
       " 'NASA Moves Forward With Campaign to Return Mars Samples to Earth',\n",
       " \"3 Things We've Learned From NASA's Mars InSight\",\n",
       " \"NASA's Mars Perseverance Rover Provides Front-Row Seat to Landing, First Audio Recording of Red Planet\",\n",
       " 'NASA to Reveal New Video, Images From Mars Perseverance Rover',\n",
       " \"NASA's Next Mars Rover Is Ready for the Most Precise Landing Yet\",\n",
       " \"NASA's Perseverance Drives on Mars' Terrain for First Time\",\n",
       " 'NASA Awards Mars Ascent Propulsion System Contract for Sample Return',\n",
       " \"NASA to Provide Update on Perseverance ‘Firsts' Since Mars Landing\",\n",
       " \"NASA's Mars Perseverance Rover Provides Front-Row Seat to Landing, First Audio Recording of Red Planet\",\n",
       " 'NASA to Reveal New Video, Images From Mars Perseverance Rover',\n",
       " \"NASA's Next Mars Rover Is Ready for the Most Precise Landing Yet\",\n",
       " \"NASA's Perseverance Drives on Mars' Terrain for First Time\",\n",
       " 'NASA Awards Mars Ascent Propulsion System Contract for Sample Return',\n",
       " \"NASA to Provide Update on Perseverance ‘Firsts' Since Mars Landing\"]"
      ]
     },
     "execution_count": 6,
     "metadata": {},
     "output_type": "execute_result"
    }
   ],
   "source": [
    "headlines_list"
   ]
  },
  {
   "cell_type": "code",
   "execution_count": 7,
   "id": "dated-finland",
   "metadata": {},
   "outputs": [
    {
     "data": {
      "text/plain": [
       "['NASA’s newest rover recorded audio of itself crunching over the surface of the Red Planet, adding a whole new dimension to Mars exploration.',\n",
       " 'Members of the projects will lay out the steps necessary before the helicopter attempts its historic test flights.',\n",
       " 'The new science results indicate that a large quantity of the Red Planet’s water is trapped in its crust rather than having escaped into space.',\n",
       " 'Working with the Navajo Nation, the rover team has named features on Mars with words from the Navajo language.',\n",
       " 'Data from the powerful science tool includes sounds of its laser zapping a rock in order to test what it’s made of.',\n",
       " 'The first trek of the agency’s largest, most advanced rover yet on the Red Planet marks a major milestone before science operations get under way.',\n",
       " 'Mission team members are participating in a virtual teleconference to discuss milestones achieved so far since the Feb. 18 landing and those to come.',\n",
       " 'The award moves NASA and ESA a step closer to realizing Mars Sample Return, an ambitious planetary exploration program that will build upon decades of science, knowledge, and experience.',\n",
       " 'Mission team members are participating in a virtual teleconference to discuss milestones achieved so far since the Feb. 18 landing and those to come.',\n",
       " 'The giant canopy that helped land Perseverance on Mars was tested here on Earth at NASA’s Wallops Flight Facility in Virginia.',\n",
       " 'A 360-degree panorama taken by the rover’s Mastcam-Z instrument will be discussed during a public video chat this Thursday.',\n",
       " 'When the Perseverance rover safely touched down on the Martian surface, inside Jezero Crater, on Feb. 18, 2021, it was also a safe landing for the nearly 11 million names on board.',\n",
       " 'The agency’s newest rover captured first-of-its kind footage of its Feb. 18 touchdown and has recorded audio of Martian wind.',\n",
       " 'First-of-its kind footage from the agency’s newest rover will be presented during a briefing this morning.',\n",
       " 'The technology demonstration has phoned home from where it is attached to the belly of NASA’s Perseverance rover.',\n",
       " 'The six-wheeled robot’s latest data since touching down yesterday include a hi-res image captured as the rover’s jetpack lowered it to the ground.',\n",
       " 'The agency’s latest and most complex mission to the Red Planet has touched down at Jezero Crater. Now it’s time to begin testing the health of the rover.',\n",
       " 'When the agency’s newest rover mission searches for fossilized microscopic life on the Red Planet, how will scientists know whether they’ve found it?',\n",
       " 'A tightly choreographed dance between NASA’s Deep Space Network and Mars orbiters will keep the agency’s Perseverance in touch with Earth during landing and beyond.',\n",
       " 'What to expect when the Mars 2020 Perseverance rover arrives at the Red Planet on Feb. 18, 2021.',\n",
       " 'Technology will collect critical data about the harsh entry environment during Perseverance’s entry next Thursday.',\n",
       " 'As dust collects on the solar panels and winter comes to Elysium Planitia, the team is following a plan to reduce science operations in order to keep the lander safe.',\n",
       " 'Mark your calendars for live landing commentary, news briefings, livestreamed Q&As, virtual watch parties, student activities, and more.',\n",
       " 'How two new technologies will help Perseverance, NASA’s most sophisticated rover yet, touch down onto the surface of Mars this month.',\n",
       " 'A new NASA paper provides the most detailed map to date of near-surface water ice on the Red Planet.',\n",
       " 'Even as the Perseverance rover approaches Mars, technology on board is paying off on Earth.',\n",
       " 'The Martian moon Phobos orbits through a stream of charged atoms and molecules that flow off the Red Planet’s atmosphere, new research shows.',\n",
       " 'With a suite of new national and international spacecraft primed to explore the Red Planet after their arrival next month, NASA’s MAVEN mission is ready to provide support and continue its study of the Martian atmosphere.',\n",
       " 'Seven minutes of harrowing descent to the Red Planet is in the not-so-distant future for the agency’s Mars 2020 mission.',\n",
       " 'Ingenuity, a technology experiment, is preparing to attempt the first powered, controlled flight on the Red Planet.',\n",
       " 'NASA leadership and members of the mission will discuss the agency’s latest rover, which touches down on the Red Planet on Feb. 18.',\n",
       " 'The heat probe hasn’t been able to gain the friction it needs to dig, but the mission has been granted an extension to carry on with its other science.',\n",
       " 'Audio gathered by the mission may not sound quite the same on Mars as it would to our ears on Earth. A new interactive online experience lets you sample the difference.',\n",
       " 'As the rover has continued to ascend Mount Sharp, it’s found distinctive benchlike rock formations.',\n",
       " 'The rover touches down on the Red Planet next month, and students are invited to join the excitement by designing, building, and landing their own Mars mission. NASA can help.',\n",
       " 'The missions – Juno and InSight – have each increased our understanding of our solar system, as well as spurred new sets of diverse questions.',\n",
       " 'The Mars 2020 Perseverance rover, which has started its approach to the Red Planet, will help answer the next logical question in Mars exploration.',\n",
       " \"Marvels of engineering, the rover's sample tubes must be tough enough to safely bring Red Planet samples on the long journey back to Earth in immaculate condition.\",\n",
       " 'During this next phase, the program will mature critical technologies and make critical design decisions as well as assess industry partnerships.',\n",
       " 'Scientists are finding new mysteries since the geophysics mission landed two years ago.']"
      ]
     },
     "execution_count": 7,
     "metadata": {},
     "output_type": "execute_result"
    }
   ],
   "source": [
    "paragraph_list"
   ]
  },
  {
   "cell_type": "code",
   "execution_count": 8,
   "id": "following-excerpt",
   "metadata": {},
   "outputs": [],
   "source": [
    "url_2 = 'https://data-class-jpl-space.s3.amazonaws.com/JPL_Space/index.html'\n",
    "browser.visit(url_2)"
   ]
  },
  {
   "cell_type": "code",
   "execution_count": 9,
   "id": "trying-density",
   "metadata": {},
   "outputs": [],
   "source": [
    "html = browser.html\n",
    "soup = BeautifulSoup(html, 'lxml')\n",
    "featured_image = soup.find('img', class_='headerimage fade-in')['src']"
   ]
  },
  {
   "cell_type": "code",
   "execution_count": 10,
   "id": "aggressive-mining",
   "metadata": {},
   "outputs": [
    {
     "name": "stdout",
     "output_type": "stream",
     "text": [
      "https://data-class-jpl-space.s3.amazonaws.com/JPL_Space/image/featured/mars2.jpg\n"
     ]
    }
   ],
   "source": [
    "featured_image_url = ('https://data-class-jpl-space.s3.amazonaws.com/JPL_Space/' + featured_image)\n",
    "print(featured_image_url)"
   ]
  },
  {
   "cell_type": "code",
   "execution_count": 11,
   "id": "existing-baseline",
   "metadata": {},
   "outputs": [],
   "source": [
    "import pandas as pd"
   ]
  },
  {
   "cell_type": "code",
   "execution_count": 12,
   "id": "advance-polish",
   "metadata": {},
   "outputs": [],
   "source": [
    "url_3 = 'https://space-facts.com/mars/'"
   ]
  },
  {
   "cell_type": "code",
   "execution_count": 13,
   "id": "domestic-clerk",
   "metadata": {},
   "outputs": [
    {
     "data": {
      "text/plain": [
       "list"
      ]
     },
     "execution_count": 13,
     "metadata": {},
     "output_type": "execute_result"
    }
   ],
   "source": [
    "tables = pd.read_html(url_3)\n",
    "type(tables)"
   ]
  },
  {
   "cell_type": "code",
   "execution_count": 14,
   "id": "fifty-arrangement",
   "metadata": {},
   "outputs": [],
   "source": [
    "df = tables[1]\n",
    "new_df = df[['Mars - Earth Comparison', 'Mars']]"
   ]
  },
  {
   "cell_type": "code",
   "execution_count": 15,
   "id": "working-subcommittee",
   "metadata": {
    "scrolled": true
   },
   "outputs": [
    {
     "name": "stderr",
     "output_type": "stream",
     "text": [
      "/Users/jameswhite/opt/anaconda3/envs/PythonData/lib/python3.6/site-packages/pandas/core/frame.py:4133: SettingWithCopyWarning: \n",
      "A value is trying to be set on a copy of a slice from a DataFrame\n",
      "\n",
      "See the caveats in the documentation: https://pandas.pydata.org/pandas-docs/stable/user_guide/indexing.html#returning-a-view-versus-a-copy\n",
      "  errors=errors,\n"
     ]
    }
   ],
   "source": [
    "new_df.rename(columns = {'Mars - Earth Comparison': ' Mars Facts', 'Mars':'Measurements'}, inplace=True)"
   ]
  },
  {
   "cell_type": "code",
   "execution_count": 16,
   "id": "bronze-kitty",
   "metadata": {},
   "outputs": [],
   "source": [
    "table_string = new_df.to_html()"
   ]
  },
  {
   "cell_type": "code",
   "execution_count": 17,
   "id": "closed-chamber",
   "metadata": {},
   "outputs": [
    {
     "data": {
      "text/plain": [
       "'<table border=\"1\" class=\"dataframe\">\\n  <thead>\\n    <tr style=\"text-align: right;\">\\n      <th></th>\\n      <th>Mars Facts</th>\\n      <th>Measurements</th>\\n    </tr>\\n  </thead>\\n  <tbody>\\n    <tr>\\n      <th>0</th>\\n      <td>Diameter:</td>\\n      <td>6,779 km</td>\\n    </tr>\\n    <tr>\\n      <th>1</th>\\n      <td>Mass:</td>\\n      <td>6.39 × 10^23 kg</td>\\n    </tr>\\n    <tr>\\n      <th>2</th>\\n      <td>Moons:</td>\\n      <td>2</td>\\n    </tr>\\n    <tr>\\n      <th>3</th>\\n      <td>Distance from Sun:</td>\\n      <td>227,943,824 km</td>\\n    </tr>\\n    <tr>\\n      <th>4</th>\\n      <td>Length of Year:</td>\\n      <td>687 Earth days</td>\\n    </tr>\\n    <tr>\\n      <th>5</th>\\n      <td>Temperature:</td>\\n      <td>-87 to -5 °C</td>\\n    </tr>\\n  </tbody>\\n</table>'"
      ]
     },
     "execution_count": 17,
     "metadata": {},
     "output_type": "execute_result"
    }
   ],
   "source": [
    "table_string"
   ]
  },
  {
   "cell_type": "code",
   "execution_count": 18,
   "id": "corrected-myrtle",
   "metadata": {},
   "outputs": [],
   "source": [
    "url_4 = 'https://astrogeology.usgs.gov/search/results?q=hemisphere+enhanced&k1=target&v1=Mars'"
   ]
  },
  {
   "cell_type": "code",
   "execution_count": 19,
   "id": "becoming-magazine",
   "metadata": {},
   "outputs": [],
   "source": [
    "browser.visit(url_4)"
   ]
  },
  {
   "cell_type": "code",
   "execution_count": 20,
   "id": "original-analyst",
   "metadata": {},
   "outputs": [
    {
     "data": {
      "text/plain": [
       "[{'title': 'Cerberus Hemisphere Enhanced',\n",
       "  'img_url': 'https://astrogeology.usgs.gov/cache/images/f5e372a36edfa389625da6d0cc25d905_cerberus_enhanced.tif_full.jpg'},\n",
       " {'title': 'Schiaparelli Hemisphere Enhanced',\n",
       "  'img_url': 'https://astrogeology.usgs.gov/cache/images/3778f7b43bbbc89d6e3cfabb3613ba93_schiaparelli_enhanced.tif_full.jpg'},\n",
       " {'title': 'Syrtis Major Hemisphere Enhanced',\n",
       "  'img_url': 'https://astrogeology.usgs.gov/cache/images/555e6403a6ddd7ba16ddb0e471cadcf7_syrtis_major_enhanced.tif_full.jpg'},\n",
       " {'title': 'Valles Marineris Hemisphere Enhanced',\n",
       "  'img_url': 'https://astrogeology.usgs.gov/cache/images/b3c7c6c9138f57b4756be9b9c43e3a48_valles_marineris_enhanced.tif_full.jpg'}]"
      ]
     },
     "execution_count": 20,
     "metadata": {},
     "output_type": "execute_result"
    }
   ],
   "source": [
    "html = browser.html\n",
    "soup = BeautifulSoup(html, 'lxml')\n",
    "\n",
    "sidebar = soup.find_all('a', class_='itemLink product-item')\n",
    "new = soup.find_all('h3')\n",
    "new_sidebar = []\n",
    "new_sidebar = (sidebar[0], sidebar[2], sidebar[4], sidebar[6])\n",
    "\n",
    "\n",
    "hemisphere_image_urls = []\n",
    "    \n",
    "for category in range(4):\n",
    "    title = new[category].text\n",
    "    image = new_sidebar[category]['href']\n",
    "    browser.visit(f'https://astrogeology.usgs.gov{image}')\n",
    "    html = browser.html\n",
    "    soup = BeautifulSoup(html, 'lxml')\n",
    "    hemisphere = soup.find('img', class_='wide-image')['src']\n",
    "    hemi_list = f'https://astrogeology.usgs.gov{hemisphere}'\n",
    "    title_image_dict = {\"title\": title, \"img_url\":hemi_list}\n",
    "    hemisphere_image_urls.append(title_image_dict)\n",
    "    browser.back()\n",
    "\n",
    "hemisphere_image_urls\n"
   ]
  },
  {
   "cell_type": "code",
   "execution_count": 21,
   "id": "nervous-elder",
   "metadata": {},
   "outputs": [],
   "source": [
    "mars_data = {\n",
    "        'headlines': headlines_list,\n",
    "        'paragraphs': paragraph_list,\n",
    "        'featured_image': featured_image_url,\n",
    "        'html_info': new_df.to_html(),\n",
    "        'hemi_images': hemisphere_image_urls\n",
    "    }"
   ]
  },
  {
   "cell_type": "code",
   "execution_count": 22,
   "id": "caroline-south",
   "metadata": {},
   "outputs": [
    {
     "data": {
      "text/plain": [
       "{'headlines': ['Mars Now',\n",
       "  'Another First: Perseverance Captures the Sounds of Driving on Mars',\n",
       "  'NASA to Host Briefing to Preview First Mars Helicopter Flights',\n",
       "  \"New Study Challenges Long-Held Theory of Fate of Mars' Water\",\n",
       "  \"NASA's Perseverance Mars Rover Mission Honors Navajo Language\",\n",
       "  \"Perseverance Rover's SuperCam Science Instrument Delivers First Results\",\n",
       "  \"NASA's Perseverance Drives on Mars' Terrain for First Time\",\n",
       "  'Media Telecon Materials - March 5, 2021',\n",
       "  'NASA Awards Mars Ascent Propulsion System Contract for Sample Return',\n",
       "  \"NASA to Provide Update on Perseverance ‘Firsts' Since Mars Landing\",\n",
       "  'Testing Proves Its Worth With Successful Mars Parachute Deployment',\n",
       "  \"NASA's Perseverance Rover Gives High-Definition Panoramic View of Landing Site\",\n",
       "  'Nearly 11 Million Names of Earthlings are on Mars Perseverance',\n",
       "  \"NASA's Mars Perseverance Rover Provides Front-Row Seat to Landing, First Audio Recording of Red Planet\",\n",
       "  'NASA to Reveal New Video, Images From Mars Perseverance Rover',\n",
       "  \"NASA's Mars Helicopter Reports In\",\n",
       "  \"NASA's Perseverance Rover Sends Sneak Peek of Mars Landing\",\n",
       "  \"Touchdown! NASA's Mars Perseverance Rover Safely Lands on Red Planet\",\n",
       "  \"Searching for Life in NASA's Perseverance Mars Samples\",\n",
       "  \"The Mars Relay Network Connects Us to NASA's Martian Explorers\",\n",
       "  \"NASA's Next Mars Rover Is Ready for the Most Precise Landing Yet\",\n",
       "  \"Sensors Prepare to Collect Data as Perseverance Enters Mars' Atmosphere\",\n",
       "  'InSight Is Meeting the Challenge of Winter on Dusty Mars',\n",
       "  'NASA Invites Public to Share Thrill of Mars Perseverance Rover Landing',\n",
       "  'Tricky Terrain: Helping to Assure a Safe Rover Landing',\n",
       "  'Where Should Future Astronauts Land on Mars? Follow the Water',\n",
       "  \"NASA's Perseverance Pays Off Back Home\",\n",
       "  'Could the Surface of Phobos Reveal Secrets of the Martian Past?',\n",
       "  \"NASA's MAVEN Continues to Advance Mars Science and Telecommunications Relay Efforts\",\n",
       "  \"NASA's Perseverance Rover 22 Days From Mars Landing\",\n",
       "  \"6 Things to Know About NASA's Mars Helicopter on Its Way to Mars\",\n",
       "  'NASA to Host Virtual Briefing on February Perseverance Mars Rover Landing',\n",
       "  \"NASA InSight's ‘Mole' Ends Its Journey on Mars\",\n",
       "  'Mars 2020 Perseverance Rover to Capture Sounds From the Red Planet',\n",
       "  \"NASA's Curiosity Rover Reaches Its 3,000th Day on Mars\",\n",
       "  \"Celebrate the Perseverance Rover Landing With NASA's Student Challenge\",\n",
       "  'NASA Extends Exploration for Two Planetary Science Missions',\n",
       "  '7 Things to Know About the NASA Rover About to Land on Mars',\n",
       "  \"A Martian Roundtrip: NASA's Perseverance Rover Sample Tubes\",\n",
       "  'NASA Moves Forward With Campaign to Return Mars Samples to Earth',\n",
       "  \"3 Things We've Learned From NASA's Mars InSight\",\n",
       "  \"NASA's Mars Perseverance Rover Provides Front-Row Seat to Landing, First Audio Recording of Red Planet\",\n",
       "  'NASA to Reveal New Video, Images From Mars Perseverance Rover',\n",
       "  \"NASA's Next Mars Rover Is Ready for the Most Precise Landing Yet\",\n",
       "  \"NASA's Perseverance Drives on Mars' Terrain for First Time\",\n",
       "  'NASA Awards Mars Ascent Propulsion System Contract for Sample Return',\n",
       "  \"NASA to Provide Update on Perseverance ‘Firsts' Since Mars Landing\",\n",
       "  \"NASA's Mars Perseverance Rover Provides Front-Row Seat to Landing, First Audio Recording of Red Planet\",\n",
       "  'NASA to Reveal New Video, Images From Mars Perseverance Rover',\n",
       "  \"NASA's Next Mars Rover Is Ready for the Most Precise Landing Yet\",\n",
       "  \"NASA's Perseverance Drives on Mars' Terrain for First Time\",\n",
       "  'NASA Awards Mars Ascent Propulsion System Contract for Sample Return',\n",
       "  \"NASA to Provide Update on Perseverance ‘Firsts' Since Mars Landing\"],\n",
       " 'paragraphs': ['NASA’s newest rover recorded audio of itself crunching over the surface of the Red Planet, adding a whole new dimension to Mars exploration.',\n",
       "  'Members of the projects will lay out the steps necessary before the helicopter attempts its historic test flights.',\n",
       "  'The new science results indicate that a large quantity of the Red Planet’s water is trapped in its crust rather than having escaped into space.',\n",
       "  'Working with the Navajo Nation, the rover team has named features on Mars with words from the Navajo language.',\n",
       "  'Data from the powerful science tool includes sounds of its laser zapping a rock in order to test what it’s made of.',\n",
       "  'The first trek of the agency’s largest, most advanced rover yet on the Red Planet marks a major milestone before science operations get under way.',\n",
       "  'Mission team members are participating in a virtual teleconference to discuss milestones achieved so far since the Feb. 18 landing and those to come.',\n",
       "  'The award moves NASA and ESA a step closer to realizing Mars Sample Return, an ambitious planetary exploration program that will build upon decades of science, knowledge, and experience.',\n",
       "  'Mission team members are participating in a virtual teleconference to discuss milestones achieved so far since the Feb. 18 landing and those to come.',\n",
       "  'The giant canopy that helped land Perseverance on Mars was tested here on Earth at NASA’s Wallops Flight Facility in Virginia.',\n",
       "  'A 360-degree panorama taken by the rover’s Mastcam-Z instrument will be discussed during a public video chat this Thursday.',\n",
       "  'When the Perseverance rover safely touched down on the Martian surface, inside Jezero Crater, on Feb. 18, 2021, it was also a safe landing for the nearly 11 million names on board.',\n",
       "  'The agency’s newest rover captured first-of-its kind footage of its Feb. 18 touchdown and has recorded audio of Martian wind.',\n",
       "  'First-of-its kind footage from the agency’s newest rover will be presented during a briefing this morning.',\n",
       "  'The technology demonstration has phoned home from where it is attached to the belly of NASA’s Perseverance rover.',\n",
       "  'The six-wheeled robot’s latest data since touching down yesterday include a hi-res image captured as the rover’s jetpack lowered it to the ground.',\n",
       "  'The agency’s latest and most complex mission to the Red Planet has touched down at Jezero Crater. Now it’s time to begin testing the health of the rover.',\n",
       "  'When the agency’s newest rover mission searches for fossilized microscopic life on the Red Planet, how will scientists know whether they’ve found it?',\n",
       "  'A tightly choreographed dance between NASA’s Deep Space Network and Mars orbiters will keep the agency’s Perseverance in touch with Earth during landing and beyond.',\n",
       "  'What to expect when the Mars 2020 Perseverance rover arrives at the Red Planet on Feb. 18, 2021.',\n",
       "  'Technology will collect critical data about the harsh entry environment during Perseverance’s entry next Thursday.',\n",
       "  'As dust collects on the solar panels and winter comes to Elysium Planitia, the team is following a plan to reduce science operations in order to keep the lander safe.',\n",
       "  'Mark your calendars for live landing commentary, news briefings, livestreamed Q&As, virtual watch parties, student activities, and more.',\n",
       "  'How two new technologies will help Perseverance, NASA’s most sophisticated rover yet, touch down onto the surface of Mars this month.',\n",
       "  'A new NASA paper provides the most detailed map to date of near-surface water ice on the Red Planet.',\n",
       "  'Even as the Perseverance rover approaches Mars, technology on board is paying off on Earth.',\n",
       "  'The Martian moon Phobos orbits through a stream of charged atoms and molecules that flow off the Red Planet’s atmosphere, new research shows.',\n",
       "  'With a suite of new national and international spacecraft primed to explore the Red Planet after their arrival next month, NASA’s MAVEN mission is ready to provide support and continue its study of the Martian atmosphere.',\n",
       "  'Seven minutes of harrowing descent to the Red Planet is in the not-so-distant future for the agency’s Mars 2020 mission.',\n",
       "  'Ingenuity, a technology experiment, is preparing to attempt the first powered, controlled flight on the Red Planet.',\n",
       "  'NASA leadership and members of the mission will discuss the agency’s latest rover, which touches down on the Red Planet on Feb. 18.',\n",
       "  'The heat probe hasn’t been able to gain the friction it needs to dig, but the mission has been granted an extension to carry on with its other science.',\n",
       "  'Audio gathered by the mission may not sound quite the same on Mars as it would to our ears on Earth. A new interactive online experience lets you sample the difference.',\n",
       "  'As the rover has continued to ascend Mount Sharp, it’s found distinctive benchlike rock formations.',\n",
       "  'The rover touches down on the Red Planet next month, and students are invited to join the excitement by designing, building, and landing their own Mars mission. NASA can help.',\n",
       "  'The missions – Juno and InSight – have each increased our understanding of our solar system, as well as spurred new sets of diverse questions.',\n",
       "  'The Mars 2020 Perseverance rover, which has started its approach to the Red Planet, will help answer the next logical question in Mars exploration.',\n",
       "  \"Marvels of engineering, the rover's sample tubes must be tough enough to safely bring Red Planet samples on the long journey back to Earth in immaculate condition.\",\n",
       "  'During this next phase, the program will mature critical technologies and make critical design decisions as well as assess industry partnerships.',\n",
       "  'Scientists are finding new mysteries since the geophysics mission landed two years ago.'],\n",
       " 'featured_image': 'https://data-class-jpl-space.s3.amazonaws.com/JPL_Space/image/featured/mars2.jpg',\n",
       " 'html_info': '<table border=\"1\" class=\"dataframe\">\\n  <thead>\\n    <tr style=\"text-align: right;\">\\n      <th></th>\\n      <th>Mars Facts</th>\\n      <th>Measurements</th>\\n    </tr>\\n  </thead>\\n  <tbody>\\n    <tr>\\n      <th>0</th>\\n      <td>Diameter:</td>\\n      <td>6,779 km</td>\\n    </tr>\\n    <tr>\\n      <th>1</th>\\n      <td>Mass:</td>\\n      <td>6.39 × 10^23 kg</td>\\n    </tr>\\n    <tr>\\n      <th>2</th>\\n      <td>Moons:</td>\\n      <td>2</td>\\n    </tr>\\n    <tr>\\n      <th>3</th>\\n      <td>Distance from Sun:</td>\\n      <td>227,943,824 km</td>\\n    </tr>\\n    <tr>\\n      <th>4</th>\\n      <td>Length of Year:</td>\\n      <td>687 Earth days</td>\\n    </tr>\\n    <tr>\\n      <th>5</th>\\n      <td>Temperature:</td>\\n      <td>-87 to -5 °C</td>\\n    </tr>\\n  </tbody>\\n</table>',\n",
       " 'hemi_images': [{'title': 'Cerberus Hemisphere Enhanced',\n",
       "   'img_url': 'https://astrogeology.usgs.gov/cache/images/f5e372a36edfa389625da6d0cc25d905_cerberus_enhanced.tif_full.jpg'},\n",
       "  {'title': 'Schiaparelli Hemisphere Enhanced',\n",
       "   'img_url': 'https://astrogeology.usgs.gov/cache/images/3778f7b43bbbc89d6e3cfabb3613ba93_schiaparelli_enhanced.tif_full.jpg'},\n",
       "  {'title': 'Syrtis Major Hemisphere Enhanced',\n",
       "   'img_url': 'https://astrogeology.usgs.gov/cache/images/555e6403a6ddd7ba16ddb0e471cadcf7_syrtis_major_enhanced.tif_full.jpg'},\n",
       "  {'title': 'Valles Marineris Hemisphere Enhanced',\n",
       "   'img_url': 'https://astrogeology.usgs.gov/cache/images/b3c7c6c9138f57b4756be9b9c43e3a48_valles_marineris_enhanced.tif_full.jpg'}]}"
      ]
     },
     "execution_count": 22,
     "metadata": {},
     "output_type": "execute_result"
    }
   ],
   "source": [
    "mars_data"
   ]
  },
  {
   "cell_type": "code",
   "execution_count": 23,
   "id": "coated-survivor",
   "metadata": {},
   "outputs": [],
   "source": [
    "# app = Flask(__name__)\n",
    "# mongo = PyMongo(app, uri=\"mongodb://localhost:27017/mars_app\")"
   ]
  },
  {
   "cell_type": "code",
   "execution_count": 24,
   "id": "nuclear-matter",
   "metadata": {},
   "outputs": [],
   "source": [
    "# mars_data = mongo.db.collection.find_one()"
   ]
  },
  {
   "cell_type": "code",
   "execution_count": 25,
   "id": "clear-numbers",
   "metadata": {},
   "outputs": [],
   "source": [
    "# mars = scrape_mars.scrape_info()"
   ]
  },
  {
   "cell_type": "code",
   "execution_count": 26,
   "id": "earned-microphone",
   "metadata": {},
   "outputs": [],
   "source": [
    "# mongo.db.collection.update({}, mars, upsert=True)"
   ]
  },
  {
   "cell_type": "code",
   "execution_count": null,
   "id": "large-fitting",
   "metadata": {},
   "outputs": [],
   "source": []
  }
 ],
 "metadata": {
  "kernelspec": {
   "display_name": "PythonData",
   "language": "python",
   "name": "pythondata"
  },
  "language_info": {
   "codemirror_mode": {
    "name": "ipython",
    "version": 3
   },
   "file_extension": ".py",
   "mimetype": "text/x-python",
   "name": "python",
   "nbconvert_exporter": "python",
   "pygments_lexer": "ipython3",
   "version": "3.6.10"
  }
 },
 "nbformat": 4,
 "nbformat_minor": 5
}

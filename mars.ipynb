{
 "cells": [
  {
   "cell_type": "code",
   "execution_count": 1,
   "id": "creative-harassment",
   "metadata": {},
   "outputs": [],
   "source": [
    "from splinter import Browser\n",
    "from bs4 import BeautifulSoup\n",
    "from webdriver_manager.chrome import ChromeDriverManager\n",
    "from flask_pymongo import PyMongo\n",
    "from flask import Flask\n",
    "# import scrape_mars"
   ]
  },
  {
   "cell_type": "code",
   "execution_count": 2,
   "id": "manual-advocate",
   "metadata": {},
   "outputs": [
    {
     "name": "stderr",
     "output_type": "stream",
     "text": [
      "\n",
      "\n",
      "====== WebDriver manager ======\n",
      "Current google-chrome version is 92.0.4515\n",
      "Get LATEST driver version for 92.0.4515\n",
      "Driver [/Users/jameswhite/.wdm/drivers/chromedriver/mac64/92.0.4515.107/chromedriver] found in cache\n"
     ]
    }
   ],
   "source": [
    "executable_path = {'executable_path': ChromeDriverManager().install()}\n",
    "browser = Browser('chrome', **executable_path, headless=False)"
   ]
  },
  {
   "cell_type": "code",
   "execution_count": 3,
   "id": "swedish-neutral",
   "metadata": {},
   "outputs": [],
   "source": [
    "url = 'https://mars.nasa.gov/news/'\n",
    "browser.visit(url)"
   ]
  },
  {
   "cell_type": "code",
   "execution_count": 4,
   "id": "affected-visit",
   "metadata": {},
   "outputs": [],
   "source": [
    "html = browser.html\n",
    "soup = BeautifulSoup(html, 'lxml')\n",
    "\n",
    "headlines = soup.find_all('div', class_='content_title')\n",
    "paragraphs = soup.find_all('div', class_='article_teaser_body')\n"
   ]
  },
  {
   "cell_type": "code",
   "execution_count": 5,
   "id": "fifth-satin",
   "metadata": {},
   "outputs": [],
   "source": [
    "headlines_list = []\n",
    "paragraph_list = []\n",
    "\n",
    "for category in headlines:\n",
    "    title = category.text.strip()\n",
    "    headlines_list.append(title)\n",
    "    \n",
    "for category in paragraphs:\n",
    "    para = category.text.strip()\n",
    "    paragraph_list.append(para)\n"
   ]
  },
  {
   "cell_type": "code",
   "execution_count": 6,
   "id": "younger-induction",
   "metadata": {},
   "outputs": [
    {
     "data": {
      "text/plain": [
       "['Mars Now',\n",
       " \"Clays, Not Water, Are Likely Source of Mars 'Lakes'\",\n",
       " \"NASA's InSight Reveals the Deep Interior of Mars\",\n",
       " 'NASA Perseverance Mars Rover to Acquire First Sample',\n",
       " \"Signs of Life on Mars? NASA's Perseverance Rover Begins the Hunt\",\n",
       " 'Journey to the Center of Mars With the InSight Lander Team',\n",
       " 'NASA to Brief Early Science From Perseverance Mars Rover',\n",
       " \"NASA's Mars Helicopter Reveals Intriguing Terrain for Rover Team\",\n",
       " \"NASA's Curiosity Rover Finds Patches of Rock Record Erased, Revealing Clues\",\n",
       " \"Meet the Open-Source Software Powering NASA's Ingenuity Mars Helicopter\",\n",
       " \"NASA's Self-Driving Perseverance Mars Rover 'Takes the Wheel'\",\n",
       " \"First You See It, Then You Don't: Scientists Closer to Explaining Mars Methane Mystery\",\n",
       " \"Watch (and Hear) How NASA's Perseverance Rover Took Its First Selfie\",\n",
       " \"Study Looks More Closely at Mars' Underground Water Signals\",\n",
       " \"My Favorite Martian Image: Jezero Crater's 'Delta Scarp'\",\n",
       " \"NASA's Ingenuity Mission Honored by the Space Foundation\",\n",
       " \"NASA's Perseverance Rover Begins Its First Science Campaign on Mars\",\n",
       " \"NASA's InSight Mars Lander Gets a Power Boost\",\n",
       " \"NASA's Curiosity Rover Captures Shining Clouds on Mars\",\n",
       " 'Life Goals: NASA Software Unlocks Martian Rover Productivity',\n",
       " 'Salts Could Be Important Piece of Martian Organic Puzzle',\n",
       " \"Seeing NASA's Ingenuity Mars Helicopter Fly in 3D\",\n",
       " \"Perseverance's Robotic Arm Starts Conducting Science\",\n",
       " \"NASA's Ingenuity Mars Helicopter Completes First One-Way Trip\",\n",
       " \"NASA's Perseverance Captures Video, Audio of Fourth Ingenuity Flight\",\n",
       " \"NASA's Ingenuity Helicopter to Begin New Demonstration Phase\",\n",
       " 'NASA Sets Briefing to Discuss Ingenuity Mars Helicopter Next Steps',\n",
       " 'With Goals Met, NASA to Push Envelope With Ingenuity Mars Helicopter',\n",
       " \"NASA's Ingenuity Mars Helicopter Flies Faster, Farther on Third Flight\",\n",
       " \"NASA's Ingenuity Mars Helicopter Logs Second Successful Flight\",\n",
       " \"NASA's Perseverance Mars Rover Extracts First Oxygen From Red Planet\",\n",
       " \"NASA's Ingenuity Mars Helicopter Succeeds in Historic First Flight\",\n",
       " 'NASA to Attempt First Controlled Flight on Mars As Soon As Monday',\n",
       " \"NASA's Mars Helicopter to Make First Flight Attempt\",\n",
       " 'Webinars--Taking Flight: How Girls Can Grow up to Be Engineers',\n",
       " \"Say Cheese on Mars: Perseverance's Selfie With Ingenuity\",\n",
       " \"NASA's Odyssey Orbiter Marks 20 Historic Years of Mapping Mars\",\n",
       " 'NASA Invites Public to Take Flight With Ingenuity Mars Helicopter',\n",
       " \"NASA's First Weather Report From Jezero Crater on Mars\",\n",
       " \"NASA's Curiosity Team Names Martian Hill That Serves as Mission ‘Gateway'\",\n",
       " \"NASA's Mars Helicopter Survives First Cold Martian Night on Its Own\",\n",
       " \"NASA's Ingenuity Mars Helicopter Completes First One-Way Trip\",\n",
       " \"NASA's Ingenuity Helicopter to Begin New Demonstration Phase\",\n",
       " 'NASA to Attempt First Controlled Flight on Mars As Soon As Monday',\n",
       " 'NASA Perseverance Mars Rover to Acquire First Sample',\n",
       " \"Study Looks More Closely at Mars' Underground Water Signals\",\n",
       " \"NASA's Perseverance Rover Begins Its First Science Campaign on Mars\",\n",
       " \"NASA's Ingenuity Mars Helicopter Completes First One-Way Trip\",\n",
       " \"NASA's Ingenuity Helicopter to Begin New Demonstration Phase\",\n",
       " 'NASA to Attempt First Controlled Flight on Mars As Soon As Monday',\n",
       " 'NASA Perseverance Mars Rover to Acquire First Sample',\n",
       " \"Study Looks More Closely at Mars' Underground Water Signals\",\n",
       " \"NASA's Perseverance Rover Begins Its First Science Campaign on Mars\"]"
      ]
     },
     "execution_count": 6,
     "metadata": {},
     "output_type": "execute_result"
    }
   ],
   "source": [
    "headlines_list"
   ]
  },
  {
   "cell_type": "code",
   "execution_count": 7,
   "id": "dated-finland",
   "metadata": {},
   "outputs": [
    {
     "data": {
      "text/plain": [
       "['Three studies published in the past month have cast doubt on the premise of subsurface lakes below the Martian south pole.',\n",
       " 'Three papers published today share new details on the crust, mantle, and molten core of the Red Planet.',\n",
       " 'The six-wheeler’s science campaign has laid the groundwork for the mission’s next major milestone.',\n",
       " 'After testing a bristling array of instruments on its robotic arm, NASA’s latest Mars rover gets down to business: probing rocks and dust for evidence of past life.',\n",
       " 'Scientists will talk about new findings in a question-and-answer session with the news media and public.',\n",
       " 'Panelists will discuss the rover’s recently started science campaign and groundwork for its next major milestone.',\n",
       " 'Ingenuity’s ninth flight provided imagery that will help the Perseverance rover team develop its science plan going forward.',\n",
       " 'A new paper enriches scientists’ understanding of where the rock record preserved or destroyed evidence of Mars’ past and possible signs of ancient life.',\n",
       " 'Created at NASA’s JPL, the open-source flight software called F Prime isn’t just powering humanity’s first interplanetary helicopter; it’s also powering inspiration at multiple universities.',\n",
       " 'The agency’s newest rover is trekking across the Martian landscape using a newly enhanced auto-navigation system.',\n",
       " 'Why do some science instruments detect the gas on the Red Planet while others don’t?',\n",
       " 'The historic image of the rover beside the Mars Helicopter proved to be one of the most complex rover selfies ever taken. Video, with bonus audio, sheds light on the process.',\n",
       " 'A new paper finds more radar signals suggesting the presence of subsurface ‘lakes,’ but many are in areas too cold for water to remain liquid.',\n",
       " 'A Perseverance rover scientist’s favorite shot from the young Mars mission provides a new angle on an old and intriguing surface feature.',\n",
       " 'The mission picked up the 2021 John L. “Jack” Swigert, Jr., Award for Space Exploration for its history-making achievements.',\n",
       " 'The six-wheeled scientist is heading south to explore Jezero Crater’s lakebed in search of signs of ancient microbial life.',\n",
       " 'The spacecraft successfully cleared some dust off its solar panels, helping to raise its energy and delay when it will need to switch off its science instruments.',\n",
       " 'The science team is studying the clouds, which arrived earlier and formed higher than expected, to learn more about the Red Planet.',\n",
       " 'Productivity pundits know lots of tricks to make the most of your day, so you can schedule enough time for important tasks while guarding against overload.',\n",
       " \"A NASA team has found that organic, or carbon-containing, salts are likely present on Mars, with implications for the Red Planet's past habitability.\",\n",
       " 'A new video of the helicopter’s third flight gives viewers the sensation of standing on the Red Planet and seeing the action firsthand.',\n",
       " 'NASA’s newest Mars rover is beginning to study the floor of an ancient crater that once held a lake.',\n",
       " 'The Red Planet rotorcraft headed south in support of furthering research into the potential use of aerial scouts on Mars in the future.',\n",
       " 'Sounds of the Mars Helicopter’s whirring rotors add another new dimension to the historic project.',\n",
       " 'The Red Planet rotorcraft will shift focus from proving flight is possible on Mars to demonstrating flight operations that future aerial craft could utilize.',\n",
       " 'With three successful flights in the logbook, Ingenuity has demonstrated it is ready for more.',\n",
       " 'With three successful flights in the logbook, Ingenuity has demonstrated it is ready for more.',\n",
       " 'The craft’s April 25 flight was conducted at speeds and distances beyond what had ever been previously demonstrated, even in testing on Earth.',\n",
       " 'The small rotorcraft’s horizons were expanded on its second flight.',\n",
       " 'The milestone, which the MOXIE instrument achieved by converting carbon dioxide into oxygen, points the way to future human exploration of the Red Planet.',\n",
       " 'The small rotorcraft made history, hovering above Jezero Crater, demonstrating that powered, controlled flight on another planet is possible.',\n",
       " 'A livestream will begin at 3:15 a.m. PDT that morning as the helicopter team prepares to receive the data downlink at NASA’s Jet Propulsion Laboratory.',\n",
       " 'The small rotorcraft’s “Wright brothers moment” is two Mars days away.',\n",
       " 'Do you like solving problems, working with other people, and making a difference? Consider a career in engineering!',\n",
       " 'NASA’s newest Mars rover used a camera on the end of its robotic arm to snap this shot of itself with the Ingenuity helicopter nearby.',\n",
       " 'For two decades, the longest-lived spacecraft at the Red Planet has helped locate water ice, assess landing sites, and study the planet’s mysterious moons.',\n",
       " 'The helicopter is scheduled to lift off close to the end of the day on April 11.',\n",
       " 'Perseverance’s MEDA will help us understand how to prepare astronauts for a future on the Red Planet.',\n",
       " 'The name honors recently deceased mission scientist Rafael Navarro-González, who helped lead the team that identified ancient organic compounds on Mars',\n",
       " 'NASA’s Ingenuity helicopter can be seen on Mars as viewed by the Perseverance rover’s rear Hazard Camera on April 4, 2021, the 44th Martian day, or sol of the mission.']"
      ]
     },
     "execution_count": 7,
     "metadata": {},
     "output_type": "execute_result"
    }
   ],
   "source": [
    "paragraph_list"
   ]
  },
  {
   "cell_type": "code",
   "execution_count": 8,
   "id": "following-excerpt",
   "metadata": {},
   "outputs": [],
   "source": [
    "url_2 = 'https://data-class-jpl-space.s3.amazonaws.com/JPL_Space/index.html'\n",
    "browser.visit(url_2)"
   ]
  },
  {
   "cell_type": "code",
   "execution_count": 9,
   "id": "trying-density",
   "metadata": {},
   "outputs": [],
   "source": [
    "html = browser.html\n",
    "soup = BeautifulSoup(html, 'lxml')\n",
    "featured_image = soup.find('img', class_='headerimage fade-in')['src']"
   ]
  },
  {
   "cell_type": "code",
   "execution_count": 10,
   "id": "aggressive-mining",
   "metadata": {},
   "outputs": [
    {
     "name": "stdout",
     "output_type": "stream",
     "text": [
      "https://data-class-jpl-space.s3.amazonaws.com/JPL_Space/image/featured/mars2.jpg\n"
     ]
    }
   ],
   "source": [
    "featured_image_url = ('https://data-class-jpl-space.s3.amazonaws.com/JPL_Space/' + featured_image)\n",
    "print(featured_image_url)"
   ]
  },
  {
   "cell_type": "code",
   "execution_count": 11,
   "id": "existing-baseline",
   "metadata": {},
   "outputs": [],
   "source": [
    "import pandas as pd"
   ]
  },
  {
   "cell_type": "code",
   "execution_count": 12,
   "id": "advance-polish",
   "metadata": {},
   "outputs": [],
   "source": [
    "url_3 = 'https://space-facts.com/mars/'"
   ]
  },
  {
   "cell_type": "code",
   "execution_count": 13,
   "id": "domestic-clerk",
   "metadata": {},
   "outputs": [
    {
     "data": {
      "text/plain": [
       "list"
      ]
     },
     "execution_count": 13,
     "metadata": {},
     "output_type": "execute_result"
    }
   ],
   "source": [
    "tables = pd.read_html(url_3)\n",
    "type(tables)"
   ]
  },
  {
   "cell_type": "code",
   "execution_count": 14,
   "id": "fifty-arrangement",
   "metadata": {},
   "outputs": [],
   "source": [
    "df = tables[1]\n",
    "new_df = df[['Mars - Earth Comparison', 'Mars']]"
   ]
  },
  {
   "cell_type": "code",
   "execution_count": 15,
   "id": "working-subcommittee",
   "metadata": {
    "scrolled": true
   },
   "outputs": [
    {
     "name": "stderr",
     "output_type": "stream",
     "text": [
      "/Users/jameswhite/opt/anaconda3/envs/TensorFlow/lib/python3.8/site-packages/pandas/core/frame.py:4441: SettingWithCopyWarning: \n",
      "A value is trying to be set on a copy of a slice from a DataFrame\n",
      "\n",
      "See the caveats in the documentation: https://pandas.pydata.org/pandas-docs/stable/user_guide/indexing.html#returning-a-view-versus-a-copy\n",
      "  return super().rename(\n"
     ]
    }
   ],
   "source": [
    "new_df.rename(columns = {'Mars - Earth Comparison': ' Mars Facts', 'Mars':'Measurements'}, inplace=True)"
   ]
  },
  {
   "cell_type": "code",
   "execution_count": 16,
   "id": "bronze-kitty",
   "metadata": {},
   "outputs": [],
   "source": [
    "table_string = new_df.to_html('table_data.html', index=False)"
   ]
  },
  {
   "cell_type": "code",
   "execution_count": 17,
   "id": "closed-chamber",
   "metadata": {},
   "outputs": [],
   "source": [
    "table_string"
   ]
  },
  {
   "cell_type": "code",
   "execution_count": 18,
   "id": "corrected-myrtle",
   "metadata": {},
   "outputs": [],
   "source": [
    "url_4 = 'https://astrogeology.usgs.gov/search/results?q=hemisphere+enhanced&k1=target&v1=Mars'"
   ]
  },
  {
   "cell_type": "code",
   "execution_count": 19,
   "id": "becoming-magazine",
   "metadata": {},
   "outputs": [],
   "source": [
    "browser.visit(url_4)"
   ]
  },
  {
   "cell_type": "code",
   "execution_count": 20,
   "id": "original-analyst",
   "metadata": {},
   "outputs": [
    {
     "data": {
      "text/plain": [
       "[{'title': 'Cerberus Hemisphere Enhanced',\n",
       "  'img_url': 'https://astrogeology.usgs.gov/cache/images/f5e372a36edfa389625da6d0cc25d905_cerberus_enhanced.tif_full.jpg'},\n",
       " {'title': 'Schiaparelli Hemisphere Enhanced',\n",
       "  'img_url': 'https://astrogeology.usgs.gov/cache/images/3778f7b43bbbc89d6e3cfabb3613ba93_schiaparelli_enhanced.tif_full.jpg'},\n",
       " {'title': 'Syrtis Major Hemisphere Enhanced',\n",
       "  'img_url': 'https://astrogeology.usgs.gov/cache/images/555e6403a6ddd7ba16ddb0e471cadcf7_syrtis_major_enhanced.tif_full.jpg'},\n",
       " {'title': 'Valles Marineris Hemisphere Enhanced',\n",
       "  'img_url': 'https://astrogeology.usgs.gov/cache/images/b3c7c6c9138f57b4756be9b9c43e3a48_valles_marineris_enhanced.tif_full.jpg'}]"
      ]
     },
     "execution_count": 20,
     "metadata": {},
     "output_type": "execute_result"
    }
   ],
   "source": [
    "html = browser.html\n",
    "soup = BeautifulSoup(html, 'lxml')\n",
    "\n",
    "sidebar = soup.find_all('a', class_='itemLink product-item')\n",
    "new = soup.find_all('h3')\n",
    "new_sidebar = []\n",
    "new_sidebar = (sidebar[0], sidebar[2], sidebar[4], sidebar[6])\n",
    "\n",
    "\n",
    "hemisphere_image_urls = []\n",
    "    \n",
    "for category in range(4):\n",
    "    title = new[category].text\n",
    "    image = new_sidebar[category]['href']\n",
    "    browser.visit(f'https://astrogeology.usgs.gov{image}')\n",
    "    html = browser.html\n",
    "    soup = BeautifulSoup(html, 'lxml')\n",
    "    hemisphere = soup.find('img', class_='wide-image')['src']\n",
    "    hemi_list = f'https://astrogeology.usgs.gov{hemisphere}'\n",
    "    title_image_dict = {\"title\": title, \"img_url\":hemi_list}\n",
    "    hemisphere_image_urls.append(title_image_dict)\n",
    "    browser.back()\n",
    "\n",
    "hemisphere_image_urls\n"
   ]
  },
  {
   "cell_type": "code",
   "execution_count": 21,
   "id": "nervous-elder",
   "metadata": {},
   "outputs": [],
   "source": [
    "mars_data = {\n",
    "        'headlines': headlines_list,\n",
    "        'paragraphs': paragraph_list,\n",
    "        'featured_image': featured_image_url,\n",
    "        'html_info': new_df.to_html(),\n",
    "        'hemi_images': hemisphere_image_urls\n",
    "    }"
   ]
  },
  {
   "cell_type": "code",
   "execution_count": 22,
   "id": "caroline-south",
   "metadata": {},
   "outputs": [
    {
     "data": {
      "text/plain": [
       "{'headlines': ['Mars Now',\n",
       "  \"Clays, Not Water, Are Likely Source of Mars 'Lakes'\",\n",
       "  \"NASA's InSight Reveals the Deep Interior of Mars\",\n",
       "  'NASA Perseverance Mars Rover to Acquire First Sample',\n",
       "  \"Signs of Life on Mars? NASA's Perseverance Rover Begins the Hunt\",\n",
       "  'Journey to the Center of Mars With the InSight Lander Team',\n",
       "  'NASA to Brief Early Science From Perseverance Mars Rover',\n",
       "  \"NASA's Mars Helicopter Reveals Intriguing Terrain for Rover Team\",\n",
       "  \"NASA's Curiosity Rover Finds Patches of Rock Record Erased, Revealing Clues\",\n",
       "  \"Meet the Open-Source Software Powering NASA's Ingenuity Mars Helicopter\",\n",
       "  \"NASA's Self-Driving Perseverance Mars Rover 'Takes the Wheel'\",\n",
       "  \"First You See It, Then You Don't: Scientists Closer to Explaining Mars Methane Mystery\",\n",
       "  \"Watch (and Hear) How NASA's Perseverance Rover Took Its First Selfie\",\n",
       "  \"Study Looks More Closely at Mars' Underground Water Signals\",\n",
       "  \"My Favorite Martian Image: Jezero Crater's 'Delta Scarp'\",\n",
       "  \"NASA's Ingenuity Mission Honored by the Space Foundation\",\n",
       "  \"NASA's Perseverance Rover Begins Its First Science Campaign on Mars\",\n",
       "  \"NASA's InSight Mars Lander Gets a Power Boost\",\n",
       "  \"NASA's Curiosity Rover Captures Shining Clouds on Mars\",\n",
       "  'Life Goals: NASA Software Unlocks Martian Rover Productivity',\n",
       "  'Salts Could Be Important Piece of Martian Organic Puzzle',\n",
       "  \"Seeing NASA's Ingenuity Mars Helicopter Fly in 3D\",\n",
       "  \"Perseverance's Robotic Arm Starts Conducting Science\",\n",
       "  \"NASA's Ingenuity Mars Helicopter Completes First One-Way Trip\",\n",
       "  \"NASA's Perseverance Captures Video, Audio of Fourth Ingenuity Flight\",\n",
       "  \"NASA's Ingenuity Helicopter to Begin New Demonstration Phase\",\n",
       "  'NASA Sets Briefing to Discuss Ingenuity Mars Helicopter Next Steps',\n",
       "  'With Goals Met, NASA to Push Envelope With Ingenuity Mars Helicopter',\n",
       "  \"NASA's Ingenuity Mars Helicopter Flies Faster, Farther on Third Flight\",\n",
       "  \"NASA's Ingenuity Mars Helicopter Logs Second Successful Flight\",\n",
       "  \"NASA's Perseverance Mars Rover Extracts First Oxygen From Red Planet\",\n",
       "  \"NASA's Ingenuity Mars Helicopter Succeeds in Historic First Flight\",\n",
       "  'NASA to Attempt First Controlled Flight on Mars As Soon As Monday',\n",
       "  \"NASA's Mars Helicopter to Make First Flight Attempt\",\n",
       "  'Webinars--Taking Flight: How Girls Can Grow up to Be Engineers',\n",
       "  \"Say Cheese on Mars: Perseverance's Selfie With Ingenuity\",\n",
       "  \"NASA's Odyssey Orbiter Marks 20 Historic Years of Mapping Mars\",\n",
       "  'NASA Invites Public to Take Flight With Ingenuity Mars Helicopter',\n",
       "  \"NASA's First Weather Report From Jezero Crater on Mars\",\n",
       "  \"NASA's Curiosity Team Names Martian Hill That Serves as Mission ‘Gateway'\",\n",
       "  \"NASA's Mars Helicopter Survives First Cold Martian Night on Its Own\",\n",
       "  \"NASA's Ingenuity Mars Helicopter Completes First One-Way Trip\",\n",
       "  \"NASA's Ingenuity Helicopter to Begin New Demonstration Phase\",\n",
       "  'NASA to Attempt First Controlled Flight on Mars As Soon As Monday',\n",
       "  'NASA Perseverance Mars Rover to Acquire First Sample',\n",
       "  \"Study Looks More Closely at Mars' Underground Water Signals\",\n",
       "  \"NASA's Perseverance Rover Begins Its First Science Campaign on Mars\",\n",
       "  \"NASA's Ingenuity Mars Helicopter Completes First One-Way Trip\",\n",
       "  \"NASA's Ingenuity Helicopter to Begin New Demonstration Phase\",\n",
       "  'NASA to Attempt First Controlled Flight on Mars As Soon As Monday',\n",
       "  'NASA Perseverance Mars Rover to Acquire First Sample',\n",
       "  \"Study Looks More Closely at Mars' Underground Water Signals\",\n",
       "  \"NASA's Perseverance Rover Begins Its First Science Campaign on Mars\"],\n",
       " 'paragraphs': ['Three studies published in the past month have cast doubt on the premise of subsurface lakes below the Martian south pole.',\n",
       "  'Three papers published today share new details on the crust, mantle, and molten core of the Red Planet.',\n",
       "  'The six-wheeler’s science campaign has laid the groundwork for the mission’s next major milestone.',\n",
       "  'After testing a bristling array of instruments on its robotic arm, NASA’s latest Mars rover gets down to business: probing rocks and dust for evidence of past life.',\n",
       "  'Scientists will talk about new findings in a question-and-answer session with the news media and public.',\n",
       "  'Panelists will discuss the rover’s recently started science campaign and groundwork for its next major milestone.',\n",
       "  'Ingenuity’s ninth flight provided imagery that will help the Perseverance rover team develop its science plan going forward.',\n",
       "  'A new paper enriches scientists’ understanding of where the rock record preserved or destroyed evidence of Mars’ past and possible signs of ancient life.',\n",
       "  'Created at NASA’s JPL, the open-source flight software called F Prime isn’t just powering humanity’s first interplanetary helicopter; it’s also powering inspiration at multiple universities.',\n",
       "  'The agency’s newest rover is trekking across the Martian landscape using a newly enhanced auto-navigation system.',\n",
       "  'Why do some science instruments detect the gas on the Red Planet while others don’t?',\n",
       "  'The historic image of the rover beside the Mars Helicopter proved to be one of the most complex rover selfies ever taken. Video, with bonus audio, sheds light on the process.',\n",
       "  'A new paper finds more radar signals suggesting the presence of subsurface ‘lakes,’ but many are in areas too cold for water to remain liquid.',\n",
       "  'A Perseverance rover scientist’s favorite shot from the young Mars mission provides a new angle on an old and intriguing surface feature.',\n",
       "  'The mission picked up the 2021 John L. “Jack” Swigert, Jr., Award for Space Exploration for its history-making achievements.',\n",
       "  'The six-wheeled scientist is heading south to explore Jezero Crater’s lakebed in search of signs of ancient microbial life.',\n",
       "  'The spacecraft successfully cleared some dust off its solar panels, helping to raise its energy and delay when it will need to switch off its science instruments.',\n",
       "  'The science team is studying the clouds, which arrived earlier and formed higher than expected, to learn more about the Red Planet.',\n",
       "  'Productivity pundits know lots of tricks to make the most of your day, so you can schedule enough time for important tasks while guarding against overload.',\n",
       "  \"A NASA team has found that organic, or carbon-containing, salts are likely present on Mars, with implications for the Red Planet's past habitability.\",\n",
       "  'A new video of the helicopter’s third flight gives viewers the sensation of standing on the Red Planet and seeing the action firsthand.',\n",
       "  'NASA’s newest Mars rover is beginning to study the floor of an ancient crater that once held a lake.',\n",
       "  'The Red Planet rotorcraft headed south in support of furthering research into the potential use of aerial scouts on Mars in the future.',\n",
       "  'Sounds of the Mars Helicopter’s whirring rotors add another new dimension to the historic project.',\n",
       "  'The Red Planet rotorcraft will shift focus from proving flight is possible on Mars to demonstrating flight operations that future aerial craft could utilize.',\n",
       "  'With three successful flights in the logbook, Ingenuity has demonstrated it is ready for more.',\n",
       "  'With three successful flights in the logbook, Ingenuity has demonstrated it is ready for more.',\n",
       "  'The craft’s April 25 flight was conducted at speeds and distances beyond what had ever been previously demonstrated, even in testing on Earth.',\n",
       "  'The small rotorcraft’s horizons were expanded on its second flight.',\n",
       "  'The milestone, which the MOXIE instrument achieved by converting carbon dioxide into oxygen, points the way to future human exploration of the Red Planet.',\n",
       "  'The small rotorcraft made history, hovering above Jezero Crater, demonstrating that powered, controlled flight on another planet is possible.',\n",
       "  'A livestream will begin at 3:15 a.m. PDT that morning as the helicopter team prepares to receive the data downlink at NASA’s Jet Propulsion Laboratory.',\n",
       "  'The small rotorcraft’s “Wright brothers moment” is two Mars days away.',\n",
       "  'Do you like solving problems, working with other people, and making a difference? Consider a career in engineering!',\n",
       "  'NASA’s newest Mars rover used a camera on the end of its robotic arm to snap this shot of itself with the Ingenuity helicopter nearby.',\n",
       "  'For two decades, the longest-lived spacecraft at the Red Planet has helped locate water ice, assess landing sites, and study the planet’s mysterious moons.',\n",
       "  'The helicopter is scheduled to lift off close to the end of the day on April 11.',\n",
       "  'Perseverance’s MEDA will help us understand how to prepare astronauts for a future on the Red Planet.',\n",
       "  'The name honors recently deceased mission scientist Rafael Navarro-González, who helped lead the team that identified ancient organic compounds on Mars',\n",
       "  'NASA’s Ingenuity helicopter can be seen on Mars as viewed by the Perseverance rover’s rear Hazard Camera on April 4, 2021, the 44th Martian day, or sol of the mission.'],\n",
       " 'featured_image': 'https://data-class-jpl-space.s3.amazonaws.com/JPL_Space/image/featured/mars2.jpg',\n",
       " 'html_info': '<table border=\"1\" class=\"dataframe\">\\n  <thead>\\n    <tr style=\"text-align: right;\">\\n      <th></th>\\n      <th>Mars Facts</th>\\n      <th>Measurements</th>\\n    </tr>\\n  </thead>\\n  <tbody>\\n    <tr>\\n      <th>0</th>\\n      <td>Diameter:</td>\\n      <td>6,779 km</td>\\n    </tr>\\n    <tr>\\n      <th>1</th>\\n      <td>Mass:</td>\\n      <td>6.39 × 10^23 kg</td>\\n    </tr>\\n    <tr>\\n      <th>2</th>\\n      <td>Moons:</td>\\n      <td>2</td>\\n    </tr>\\n    <tr>\\n      <th>3</th>\\n      <td>Distance from Sun:</td>\\n      <td>227,943,824 km</td>\\n    </tr>\\n    <tr>\\n      <th>4</th>\\n      <td>Length of Year:</td>\\n      <td>687 Earth days</td>\\n    </tr>\\n    <tr>\\n      <th>5</th>\\n      <td>Temperature:</td>\\n      <td>-87 to -5 °C</td>\\n    </tr>\\n  </tbody>\\n</table>',\n",
       " 'hemi_images': [{'title': 'Cerberus Hemisphere Enhanced',\n",
       "   'img_url': 'https://astrogeology.usgs.gov/cache/images/f5e372a36edfa389625da6d0cc25d905_cerberus_enhanced.tif_full.jpg'},\n",
       "  {'title': 'Schiaparelli Hemisphere Enhanced',\n",
       "   'img_url': 'https://astrogeology.usgs.gov/cache/images/3778f7b43bbbc89d6e3cfabb3613ba93_schiaparelli_enhanced.tif_full.jpg'},\n",
       "  {'title': 'Syrtis Major Hemisphere Enhanced',\n",
       "   'img_url': 'https://astrogeology.usgs.gov/cache/images/555e6403a6ddd7ba16ddb0e471cadcf7_syrtis_major_enhanced.tif_full.jpg'},\n",
       "  {'title': 'Valles Marineris Hemisphere Enhanced',\n",
       "   'img_url': 'https://astrogeology.usgs.gov/cache/images/b3c7c6c9138f57b4756be9b9c43e3a48_valles_marineris_enhanced.tif_full.jpg'}]}"
      ]
     },
     "execution_count": 22,
     "metadata": {},
     "output_type": "execute_result"
    }
   ],
   "source": [
    "mars_data"
   ]
  },
  {
   "cell_type": "code",
   "execution_count": 23,
   "id": "coated-survivor",
   "metadata": {},
   "outputs": [],
   "source": [
    "# The following was simply a way to update Mongo DB manually, when certain elements\n",
    "# of the transferred data wasn't quite coming up correctly.\n",
    "\n",
    "# app = Flask(__name__)\n",
    "# mongo = PyMongo(app, uri=\"mongodb://localhost:27017/mars_app\")"
   ]
  },
  {
   "cell_type": "code",
   "execution_count": 24,
   "id": "nuclear-matter",
   "metadata": {},
   "outputs": [],
   "source": [
    "# mars_data = mongo.db.collection.find_one()"
   ]
  },
  {
   "cell_type": "code",
   "execution_count": 25,
   "id": "clear-numbers",
   "metadata": {},
   "outputs": [],
   "source": [
    "# mars = scrape_mars.scrape_info()"
   ]
  },
  {
   "cell_type": "code",
   "execution_count": 26,
   "id": "earned-microphone",
   "metadata": {},
   "outputs": [],
   "source": [
    "# mongo.db.collection.update({}, mars, upsert=True)"
   ]
  },
  {
   "cell_type": "code",
   "execution_count": null,
   "id": "large-fitting",
   "metadata": {},
   "outputs": [],
   "source": []
  }
 ],
 "metadata": {
  "kernelspec": {
   "display_name": "TensorFlow",
   "language": "python",
   "name": "tensorflow"
  },
  "language_info": {
   "codemirror_mode": {
    "name": "ipython",
    "version": 3
   },
   "file_extension": ".py",
   "mimetype": "text/x-python",
   "name": "python",
   "nbconvert_exporter": "python",
   "pygments_lexer": "ipython3",
   "version": "3.8.8"
  }
 },
 "nbformat": 4,
 "nbformat_minor": 5
}
